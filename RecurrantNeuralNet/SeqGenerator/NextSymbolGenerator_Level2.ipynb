{
 "cells": [
  {
   "cell_type": "code",
   "execution_count": 1,
   "metadata": {},
   "outputs": [],
   "source": [
    "'''\n",
   "I have taken original code from below mentioned URL. \n",
   "Used it to generate a sequence, the sequence will be of only 3 integers (1,2,3).\n",
   "It reads 12 inputs and predict next output.\n",
    "Author: Rowel Atienza\n",
    "Project: https://github.com/roatienza/Deep-Learning-Experiments\n",
    "'''\n",
    "\n",
    "from __future__ import print_function\n",
    "\n",
    "import numpy as np\n",
    "import tensorflow as tf\n",
    "from tensorflow.contrib import rnn\n",
    "import random\n",
    "import collections\n",
    "import time"
   ]
  },
  {
   "cell_type": "code",
   "execution_count": 2,
   "metadata": {},
   "outputs": [],
   "source": [
    "start_time = time.time()\n",
    "def elapsed(sec):\n",
    "    if sec<60:\n",
    "        return str(sec) + \" sec\"\n",
    "    elif sec<(60*60):\n",
    "        return str(sec/60) + \" min\"\n",
    "    else:\n",
    "        return str(sec/(60*60)) + \" hr\""
   ]
  },
  {
   "cell_type": "code",
   "execution_count": 3,
   "metadata": {},
   "outputs": [],
   "source": [
    "# Target log path\n",
    "logs_path = 'rnn_code'\n",
    "writer = tf.summary.FileWriter(logs_path)\n",
    "\n",
    "# Text file containing words for training\n",
    "training_file = 'input_code2.txt'"
   ]
  },
  {
   "cell_type": "code",
   "execution_count": 4,
   "metadata": {},
   "outputs": [],
   "source": [
    "def read_data(fname):\n",
    "    with open(fname) as f:\n",
    "        content = f.read()\n",
    "    #print(content)\n",
    "    #content = [x.strip() for x in content]\n",
    "    #content = [content[i].split(',') for i in range(len(content)-1)]\n",
    "    #content = np.array(content)\n",
    "    #content = np.reshape(content, [-1, ])\n",
    "    content = content.split(',')\n",
    "    #print(content)\n",
    "    return content[:-1]"
   ]
  },
  {
   "cell_type": "markdown",
   "metadata": {},
   "source": [
    "with open('inputcode.txt',encoding=\"utf8\") as f:\n",
    "        content = f.read()\n",
    "data = content.split(',')\n",
    "print(data)\n",
    "#content = list(content)\n",
    "#content = [content[i].split(',') for i in range(len(content))]\n",
    "#print(split(content))"
   ]
  },
  {
   "cell_type": "code",
   "execution_count": 5,
   "metadata": {},
   "outputs": [
    {
     "name": "stdout",
     "output_type": "stream",
     "text": [
      "Loaded training data...\n",
      "['1', '2', '1', '2', '1', '2', '1', '21', '2', '1', '2', '1', '3', '3', '3', '1', '2', '3', '2', '1', '2', '3', '1', '2', '3', '2', '1', '2', '3', '2', '1', '2', '3', '2', '1', '2', '3', '2', '1', '2', '3', '2', '1', '2', '3', '2', '1', '2', '2', '1', '2', '3', '2', '2', '2', '2', '1', '1', '1', '1', '2', '3', '2', '2', '3', '2']\n",
      "[1, 2, 1, 2, 1, 2, 1, 21, 2, 1, 2, 1, 3, 3, 3, 1, 2, 3, 2, 1, 2, 3, 1, 2, 3, 2, 1, 2, 3, 2, 1, 2, 3, 2, 1, 2, 3, 2, 1, 2, 3, 2, 1, 2, 3, 2, 1, 2, 2, 1, 2, 3, 2, 2, 2, 2, 1, 1, 1, 1, 2, 3, 2, 2, 3, 2]\n"
     ]
    }
   ],
   "source": [
    "training_data = read_data(training_file)\n",
    "print(\"Loaded training data...\")\n",
    "print(training_data)\n",
    "\n",
    "training_data = list(map(int, training_data))\n",
    "print(training_data)"
   ]
  },
  {
   "cell_type": "code",
   "execution_count": 6,
   "metadata": {},
   "outputs": [
    {
     "name": "stdout",
     "output_type": "stream",
     "text": [
      "[1, 2, 1, 2, 1, 2, 1, 21, 2, 1]\n",
      "66\n"
     ]
    }
   ],
   "source": [
    "print(training_data[:10])\n",
    "print(len(training_data))"
   ]
  },
  {
   "cell_type": "markdown",
   "metadata": {},
   "source": [
    "def build_dataset(words):\n",
    "    count = collections.Counter(words).most_common()\n",
    "    dictionary = dict()\n",
    "    for word, _ in count:\n",
    "        dictionary[word] = len(dictionary)\n",
    "    reverse_dictionary = dict(zip(dictionary.values(), dictionary.keys()))\n",
    "    return dictionary, reverse_dictionary"
   ]
  },
  {
   "cell_type": "markdown",
   "metadata": {},
   "source": [
    "dictionary, reverse_dictionary = build_dataset(training_data)\n",
    "vocab_size = len(dictionary)"
   ]
  },
  {
   "cell_type": "markdown",
   "metadata": {},
   "source": [
    "print(vocab_size)\n",
    "print(dictionary)"
   ]
  },
  {
   "cell_type": "markdown",
   "metadata": {},
   "source": [
    "print(training_data)\n",
    "vocab = list(set(training_data))\n",
    "print(vocab)\n",
    "vocab1 = ['1','2','3']\n",
    "print(vocab1)"
   ]
  },
  {
   "cell_type": "code",
   "execution_count": 7,
   "metadata": {},
   "outputs": [],
   "source": [
    "# Parameters\n",
    "learning_rate = 0.001\n",
    "training_iters = 50000\n",
    "display_step = 1000\n",
    "n_input = 12\n",
    "vocab = [1,2,3]\n",
    "vocab_size = 3\n",
    "# number of units in RNN cell\n",
    "n_hidden = 512\n",
    "py_flag = False\n",
    "# tf Graph input\n",
    "x = tf.placeholder(\"float\", [1, n_input, 1])\n",
    "y = tf.placeholder(\"float\", [1, vocab_size])"
   ]
  },
  {
   "cell_type": "code",
   "execution_count": 8,
   "metadata": {},
   "outputs": [],
   "source": [
    "# RNN output node weights and biases\n",
    "weights = {\n",
    "    'out': tf.Variable(tf.random_normal([n_hidden, vocab_size]))\n",
    "}\n",
    "biases = {\n",
    "    'out': tf.Variable(tf.random_normal([vocab_size]))\n",
    "}"
   ]
  },
  {
   "cell_type": "code",
   "execution_count": 9,
   "metadata": {},
   "outputs": [],
   "source": [
    "def RNN(x, weights, biases):\n",
    "\n",
    "    # reshape to [1, n_input]\n",
    "    x = tf.reshape(x, [-1, n_input])\n",
    "    #print(x.shape)\n",
    "    # Generate a n_input-element sequence of inputs\n",
    "    # (eg. [had] [a] [general] -> [20] [6] [33])\n",
    "    x = tf.split(x,n_input,1)\n",
    "\n",
    "    # 1-layer LSTM with n_hidden units.\n",
    "    rnn_cell = rnn.BasicLSTMCell(n_hidden)\n",
    "\n",
    "    # generate prediction\n",
    "    outputs, states = rnn.static_rnn(rnn_cell, x, dtype=tf.float32)\n",
    "\n",
    "    # there are n_input outputs but\n",
    "    # we only want the last output\n",
    "    return tf.matmul(outputs[-1], weights['out']) + biases['out']"
   ]
  },
  {
   "cell_type": "code",
   "execution_count": 10,
   "metadata": {},
   "outputs": [],
   "source": [
    "pred = RNN(x, weights, biases)\n",
    "\n",
    "# Loss and optimizer\n",
    "cost = tf.reduce_mean(tf.nn.softmax_cross_entropy_with_logits(logits=pred, labels=y))\n",
    "optimizer = tf.train.RMSPropOptimizer(learning_rate=learning_rate).minimize(cost)\n",
    "\n",
    "# Model evaluation\n",
    "correct_pred = tf.equal(tf.argmax(pred,1), tf.argmax(y,1))\n",
    "accuracy = tf.reduce_mean(tf.cast(correct_pred, tf.float32))\n",
    "\n",
    "# Initializing the variables\n",
    "init = tf.global_variables_initializer()"
   ]
  },
  {
   "cell_type": "markdown",
   "metadata": {},
   "source": [
    "    #testing    \n",
    "    \n",
    "    #symbols_in_keys = [ [dictionary[ str(training_data[i])]] for i in range(offset, offset+n_input) ]\n",
    "        #symbols_in_keys = np.reshape(np.array(symbols_in_keys), [-1, n_input, 1])\n",
    "        #input_set = np.reshape(training_data, [-1, n_input, 1])\n",
    "        offset = 8\n",
    "        symbols_out_onehot = np.zeros([vocab_size], dtype=float)\n",
    "        #symbols_out_onehot[dictionary[str(training_data[offset+n_input])]] = 1.0\n",
    "        symbols_out_onehot[int(training_data[offset+n_input]) - 1] = 1.0\n",
    "        print(symbols_out_onehot)\n",
    "        #symbols_out_onehot[training_data[offset+n_input]] = 1.0\n",
    "        #symbols_out_onehot = np.reshape(symbols_out_onehot,[1,-1])"
   ]
  },
  {
   "cell_type": "markdown",
   "metadata": {},
   "source": [
    "#symbols_in_keys = [ [dictionary[ str(training_data[i])]] for i in range(offset, offset+n_input) ]\n",
    "#symbols_in_keys = np.reshape(np.array(symbols_in_keys), [-1, n_input, 1])\n",
    "input_data = [training_data[i] for i in range(offset, offset+n_input)]\n",
    "input_set = np.reshape(input_data, [-1, n_input, 1])\n",
    "print(input_set)"
   ]
  },
  {
   "cell_type": "code",
   "execution_count": 11,
   "metadata": {},
   "outputs": [
    {
     "name": "stdout",
     "output_type": "stream",
     "text": [
      "Iter= 1000, Average Loss= 1.011215, Average Accuracy= 60.80%\n",
      "[3, 1, 2, 3, 2, 1, 2, 3, 1, 2, 3, 2] - [1] vs [1]\n",
      "Iter= 2000, Average Loss= 0.414976, Average Accuracy= 85.10%\n",
      "[3, 2, 1, 2, 3, 1, 2, 3, 2, 1, 2, 3] - [2] vs [2]\n",
      "Iter= 3000, Average Loss= 0.263194, Average Accuracy= 91.20%\n",
      "[3, 3, 3, 1, 2, 3, 2, 1, 2, 3, 1, 2] - [3] vs [3]\n",
      "Iter= 4000, Average Loss= 0.170070, Average Accuracy= 95.00%\n",
      "[3, 1, 2, 3, 2, 1, 2, 3, 1, 2, 3, 2] - [1] vs [1]\n",
      "Iter= 5000, Average Loss= 0.166822, Average Accuracy= 94.80%\n",
      "[1, 2, 1, 21, 2, 1, 2, 1, 3, 3, 3, 1] - [2] vs [2]\n",
      "Iter= 6000, Average Loss= 0.124020, Average Accuracy= 96.50%\n",
      "[1, 2, 3, 2, 2, 2, 2, 1, 1, 1, 1, 2] - [3] vs [3]\n",
      "Iter= 7000, Average Loss= 0.127741, Average Accuracy= 96.50%\n",
      "[2, 1, 3, 3, 3, 1, 2, 3, 2, 1, 2, 3] - [1] vs [1]\n",
      "Iter= 8000, Average Loss= 0.109479, Average Accuracy= 97.40%\n",
      "[2, 3, 1, 2, 3, 2, 1, 2, 3, 2, 1, 2] - [3] vs [3]\n",
      "Iter= 9000, Average Loss= 0.094220, Average Accuracy= 97.80%\n",
      "[3, 3, 1, 2, 3, 2, 1, 2, 3, 1, 2, 3] - [2] vs [2]\n",
      "Iter= 10000, Average Loss= 0.116833, Average Accuracy= 97.50%\n",
      "[2, 1, 2, 1, 21, 2, 1, 2, 1, 3, 3, 3] - [1] vs [1]\n",
      "Iter= 11000, Average Loss= 0.095238, Average Accuracy= 97.10%\n",
      "[1, 2, 3, 2, 2, 2, 2, 1, 1, 1, 1, 2] - [3] vs [3]\n",
      "Iter= 12000, Average Loss= 0.131454, Average Accuracy= 95.80%\n",
      "[1, 2, 3, 2, 1, 2, 3, 2, 1, 2, 2, 1] - [2] vs [2]\n",
      "Iter= 13000, Average Loss= 0.113738, Average Accuracy= 97.40%\n",
      "[3, 1, 2, 3, 2, 1, 2, 3, 2, 1, 2, 3] - [2] vs [2]\n",
      "Iter= 14000, Average Loss= 0.083460, Average Accuracy= 97.80%\n",
      "[1, 2, 3, 2, 1, 2, 3, 2, 1, 2, 3, 2] - [1] vs [1]\n",
      "Iter= 15000, Average Loss= 0.078838, Average Accuracy= 98.00%\n",
      "[1, 2, 1, 2, 1, 21, 2, 1, 2, 1, 3, 3] - [3] vs [3]\n",
      "Iter= 16000, Average Loss= 0.079949, Average Accuracy= 97.80%\n",
      "[2, 1, 2, 1, 3, 3, 3, 1, 2, 3, 2, 1] - [2] vs [2]\n",
      "Iter= 17000, Average Loss= 0.088632, Average Accuracy= 97.20%\n",
      "[3, 2, 1, 2, 3, 2, 1, 2, 3, 2, 1, 2] - [3] vs [3]\n",
      "Iter= 18000, Average Loss= 0.076816, Average Accuracy= 98.40%\n",
      "[2, 1, 2, 1, 2, 1, 21, 2, 1, 2, 1, 3] - [3] vs [3]\n",
      "Iter= 19000, Average Loss= 0.077276, Average Accuracy= 98.10%\n",
      "[3, 3, 1, 2, 3, 2, 1, 2, 3, 1, 2, 3] - [2] vs [2]\n",
      "Iter= 20000, Average Loss= 0.112349, Average Accuracy= 96.70%\n",
      "[2, 3, 2, 1, 2, 3, 2, 1, 2, 3, 2, 1] - [2] vs [2]\n",
      "Iter= 21000, Average Loss= 0.092480, Average Accuracy= 98.00%\n",
      "[3, 2, 1, 2, 3, 2, 1, 2, 3, 2, 1, 2] - [3] vs [3]\n",
      "Iter= 22000, Average Loss= 0.068808, Average Accuracy= 98.60%\n",
      "[2, 3, 2, 1, 2, 3, 2, 1, 2, 3, 2, 1] - [2] vs [2]\n",
      "Iter= 23000, Average Loss= 0.085760, Average Accuracy= 97.80%\n",
      "[2, 3, 1, 2, 3, 2, 1, 2, 3, 2, 1, 2] - [3] vs [3]\n",
      "Iter= 24000, Average Loss= 0.076180, Average Accuracy= 98.00%\n",
      "[3, 2, 1, 2, 3, 1, 2, 3, 2, 1, 2, 3] - [2] vs [2]\n",
      "Iter= 25000, Average Loss= 0.075972, Average Accuracy= 98.10%\n",
      "[3, 3, 1, 2, 3, 2, 1, 2, 3, 1, 2, 3] - [2] vs [2]\n",
      "Iter= 26000, Average Loss= 0.089572, Average Accuracy= 98.10%\n",
      "[1, 2, 1, 2, 1, 2, 1, 21, 2, 1, 2, 1] - [3] vs [3]\n",
      "Iter= 27000, Average Loss= 0.088323, Average Accuracy= 97.90%\n",
      "[1, 2, 3, 2, 2, 2, 2, 1, 1, 1, 1, 2] - [3] vs [3]\n",
      "Iter= 28000, Average Loss= 0.090500, Average Accuracy= 97.60%\n",
      "[2, 1, 2, 3, 1, 2, 3, 2, 1, 2, 3, 2] - [1] vs [1]\n",
      "Iter= 29000, Average Loss= 0.081351, Average Accuracy= 97.20%\n",
      "[2, 1, 2, 3, 2, 1, 2, 3, 2, 1, 2, 3] - [2] vs [2]\n",
      "Iter= 30000, Average Loss= 0.122264, Average Accuracy= 97.40%\n",
      "[2, 1, 2, 3, 2, 1, 2, 3, 2, 1, 2, 3] - [2] vs [2]\n",
      "Iter= 31000, Average Loss= 0.111887, Average Accuracy= 97.60%\n",
      "[1, 2, 1, 21, 2, 1, 2, 1, 3, 3, 3, 1] - [2] vs [2]\n",
      "Iter= 32000, Average Loss= 0.085379, Average Accuracy= 97.40%\n",
      "[21, 2, 1, 2, 1, 3, 3, 3, 1, 2, 3, 2] - [1] vs [1]\n",
      "Iter= 33000, Average Loss= 0.063291, Average Accuracy= 99.00%\n",
      "[2, 3, 2, 1, 2, 3, 2, 1, 2, 3, 2, 1] - [2] vs [2]\n",
      "Iter= 34000, Average Loss= 0.228956, Average Accuracy= 96.10%\n",
      "[2, 1, 2, 2, 1, 2, 3, 2, 2, 2, 2, 1] - [1] vs [1]\n",
      "Iter= 35000, Average Loss= 0.083058, Average Accuracy= 98.20%\n",
      "[1, 2, 2, 1, 2, 3, 2, 2, 2, 2, 1, 1] - [1] vs [1]\n",
      "Iter= 36000, Average Loss= 0.074868, Average Accuracy= 97.80%\n",
      "[1, 3, 3, 3, 1, 2, 3, 2, 1, 2, 3, 1] - [2] vs [2]\n",
      "Iter= 37000, Average Loss= 0.101523, Average Accuracy= 97.20%\n",
      "[1, 21, 2, 1, 2, 1, 3, 3, 3, 1, 2, 3] - [2] vs [2]\n",
      "Iter= 38000, Average Loss= 0.124341, Average Accuracy= 97.30%\n",
      "[2, 3, 2, 1, 2, 3, 2, 1, 2, 2, 1, 2] - [3] vs [3]\n",
      "Iter= 39000, Average Loss= 0.093165, Average Accuracy= 96.90%\n",
      "[1, 2, 3, 1, 2, 3, 2, 1, 2, 3, 2, 1] - [2] vs [2]\n",
      "Iter= 40000, Average Loss= 0.131280, Average Accuracy= 98.00%\n",
      "[2, 1, 3, 3, 3, 1, 2, 3, 2, 1, 2, 3] - [1] vs [1]\n",
      "Iter= 41000, Average Loss= 0.173837, Average Accuracy= 96.70%\n",
      "[3, 2, 1, 2, 3, 2, 1, 2, 3, 2, 1, 2] - [3] vs [3]\n",
      "Iter= 42000, Average Loss= 0.067694, Average Accuracy= 98.70%\n",
      "[1, 2, 3, 2, 1, 2, 3, 2, 1, 2, 3, 2] - [1] vs [1]\n",
      "Iter= 43000, Average Loss= 0.103916, Average Accuracy= 98.00%\n",
      "[3, 3, 1, 2, 3, 2, 1, 2, 3, 1, 2, 3] - [2] vs [2]\n",
      "Iter= 44000, Average Loss= 0.151070, Average Accuracy= 97.30%\n",
      "[1, 2, 1, 2, 1, 2, 1, 21, 2, 1, 2, 1] - [3] vs [3]\n",
      "Iter= 45000, Average Loss= 0.076150, Average Accuracy= 98.50%\n",
      "[2, 2, 2, 2, 1, 1, 1, 1, 2, 3, 2, 2] - [3] vs [3]\n",
      "Iter= 46000, Average Loss= 0.079045, Average Accuracy= 98.00%\n",
      "[3, 2, 1, 2, 3, 2, 1, 2, 2, 1, 2, 3] - [2] vs [2]\n",
      "Iter= 47000, Average Loss= 0.093110, Average Accuracy= 96.80%\n",
      "[21, 2, 1, 2, 1, 3, 3, 3, 1, 2, 3, 2] - [1] vs [1]\n",
      "Iter= 48000, Average Loss= 0.093426, Average Accuracy= 97.70%\n",
      "[2, 3, 2, 1, 2, 3, 2, 1, 2, 3, 2, 1] - [2] vs [2]\n",
      "Iter= 49000, Average Loss= 0.072693, Average Accuracy= 98.00%\n",
      "[2, 1, 2, 3, 2, 2, 2, 2, 1, 1, 1, 1] - [2] vs [2]\n",
      "Iter= 50000, Average Loss= 0.075903, Average Accuracy= 98.40%\n",
      "[1, 2, 3, 2, 1, 2, 3, 2, 1, 2, 2, 1] - [2] vs [2]\n",
      "Optimization Finished!\n",
      "Elapsed time:  8.83382101919916 hr\n",
      "Run on command line.\n",
      "\ttensorboard --logdir=rnn_code\n",
      "Point your web browser to: http://localhost:6006/\n"
     ]
    }
   ],
   "source": [
    "# Launch the graph\n",
    "with tf.Session() as session:\n",
    "    session.run(init)\n",
    "    step = 0\n",
    "    offset = random.randint(0,n_input+1)\n",
    "    end_offset = n_input + 1\n",
    "    acc_total = 0\n",
    "    loss_total = 0\n",
    "\n",
    "    writer.add_graph(session.graph)\n",
    "\n",
    "    while step < training_iters: #training_iters=50000\n",
    "        # Generate a minibatch. Add some randomness on selection process.\n",
    "        if offset > (len(training_data)-end_offset):\n",
    "            offset = random.randint(0, n_input+1)\n",
    "\n",
    "        #symbols_in_keys = [ [dictionary[ str(training_data[i])]] for i in range(offset, offset+n_input) ]\n",
    "        #symbols_in_keys = np.reshape(np.array(symbols_in_keys), [-1, n_input, 1])\n",
    "        input_data = [training_data[i] for i in range(offset, offset+n_input)]\n",
    "        input_set = np.reshape(input_data, [-1, n_input, 1]) \n",
    "        #input_set = np.reshape(training_data, [-1, n_input, 1])\n",
    "        #print(input_set, input_set.shape)\n",
    "        symbols_out_onehot = np.zeros([vocab_size], dtype=float)\n",
    "        symbols_out_onehot[int(training_data[offset+n_input]) - 1] = 1.0\n",
    "        symbols_out_onehot = np.reshape(symbols_out_onehot,[1,-1])\n",
    "        \n",
    "        #print(symbols_out_onehot, symbols_out_onehot.shape)\n",
    "        \n",
    "        _, acc, loss, onehot_pred = session.run([optimizer, accuracy, cost, pred], \\\n",
    "                                                feed_dict={x: input_set, y: symbols_out_onehot})\n",
    "        loss_total += loss\n",
    "        acc_total += acc\n",
    "        if (step+1) % display_step == 0:\n",
    "            print(\"Iter= \" + str(step+1) + \", Average Loss= \" + \\\n",
    "                  \"{:.6f}\".format(loss_total/display_step) + \", Average Accuracy= \" + \\\n",
    "                  \"{:.2f}%\".format(100*acc_total/display_step))\n",
    "            acc_total = 0\n",
    "            loss_total = 0\n",
    "            symbols_in = [training_data[i] for i in range(offset, offset + n_input)]\n",
    "            symbols_out = training_data[offset + n_input]\n",
    "            #symbols_out_pred = reverse_dictionary[int(tf.argmax(onehot_pred, 1).eval())]\n",
    "            symbols_out_pred = int(tf.argmax(onehot_pred, 1).eval() + 1)\n",
    "            print(\"%s - [%s] vs [%s]\" % (symbols_in,symbols_out,symbols_out_pred))\n",
    "        step += 1\n",
    "        offset += (n_input+1)\n",
    "    print(\"Optimization Finished!\")\n",
    "    print(\"Elapsed time: \", elapsed(time.time() - start_time))\n",
    "    print(\"Run on command line.\")\n",
    "    print(\"\\ttensorboard --logdir=%s\" % (logs_path))\n",
    "    print(\"Point your web browser to: http://localhost:6006/\")\n",
    "    '''\n",
    "    while True:\n",
    "        prompt = \"%s words: \" % n_input\n",
    "        sentence = input(prompt)\n",
    "        sentence = sentence.strip()\n",
    "        words = sentence.split(' ')\n",
    "        if len(words) != n_input:\n",
    "            continue\n",
    "        try:\n",
    "            symbols_in_keys = [dictionary[str(words[i])] for i in range(len(words))]\n",
    "            for i in range(32):\n",
    "                keys = np.reshape(np.array(symbols_in_keys), [-1, n_input, 1])\n",
    "                onehot_pred = session.run(pred, feed_dict={x: keys})\n",
    "                onehot_pred_index = int(tf.argmax(onehot_pred, 1).eval())\n",
    "                sentence = \"%s %s\" % (sentence,reverse_dictionary[onehot_pred_index])\n",
    "                symbols_in_keys = symbols_in_keys[1:]\n",
    "                symbols_in_keys.append(onehot_pred_index)\n",
    "            print(sentence)\n",
    "        except:\n",
    "            print(\"Word not in dictionary\")'''"
   ]
  },
  {
   "cell_type": "code",
   "execution_count": null,
   "metadata": {},
   "outputs": [],
   "source": []
  }
 ],
 "metadata": {
  "kernelspec": {
   "display_name": "Python 3",
   "language": "python",
   "name": "python3"
  },
  "language_info": {
   "codemirror_mode": {
    "name": "ipython",
    "version": 3
   },
   "file_extension": ".py",
   "mimetype": "text/x-python",
   "name": "python",
   "nbconvert_exporter": "python",
   "pygments_lexer": "ipython3",
   "version": "3.6.4"
  }
 },
 "nbformat": 4,
 "nbformat_minor": 2
}
